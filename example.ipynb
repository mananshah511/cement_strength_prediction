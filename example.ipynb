{
 "cells": [
  {
   "cell_type": "code",
   "execution_count": 6,
   "metadata": {},
   "outputs": [
    {
     "ename": "ModuleNotFoundError",
     "evalue": "No module named 'evidently'",
     "output_type": "error",
     "traceback": [
      "\u001b[1;31m---------------------------------------------------------------------------\u001b[0m",
      "\u001b[1;31mModuleNotFoundError\u001b[0m                       Traceback (most recent call last)",
      "\u001b[1;32m~\\AppData\\Local\\Temp\\ipykernel_11000\\277342098.py\u001b[0m in \u001b[0;36m<module>\u001b[1;34m\u001b[0m\n\u001b[1;32m----> 1\u001b[1;33m \u001b[1;32mfrom\u001b[0m \u001b[0mevidently\u001b[0m\u001b[1;33m.\u001b[0m\u001b[0mdashboard\u001b[0m \u001b[1;32mimport\u001b[0m \u001b[0mDashboard\u001b[0m\u001b[1;33m\u001b[0m\u001b[1;33m\u001b[0m\u001b[0m\n\u001b[0m\u001b[0;32m      2\u001b[0m \u001b[1;32mfrom\u001b[0m \u001b[0mevidently\u001b[0m\u001b[1;33m.\u001b[0m\u001b[0mdashboard\u001b[0m\u001b[1;33m.\u001b[0m\u001b[0mtabs\u001b[0m \u001b[1;32mimport\u001b[0m \u001b[0mDataDriftTab\u001b[0m\u001b[1;33m\u001b[0m\u001b[1;33m\u001b[0m\u001b[0m\n",
      "\u001b[1;31mModuleNotFoundError\u001b[0m: No module named 'evidently'"
     ]
    },
    {
     "name": "stdout",
     "output_type": "stream",
     "text": [
      "Collecting evidently==0.2.8\n",
      "  Downloading evidently-0.2.8-py3-none-any.whl (12.1 MB)\n",
      "     -------------------------------------- 12.1/12.1 MB 379.5 kB/s eta 0:00:00\n",
      "Collecting numpy>=1.19.5\n",
      "  Using cached numpy-1.21.6-cp37-cp37m-win_amd64.whl (14.0 MB)\n",
      "Collecting plotly>=5.5.0\n",
      "  Downloading plotly-5.17.0-py2.py3-none-any.whl (15.6 MB)\n",
      "     -------------------------------------- 15.6/15.6 MB 251.4 kB/s eta 0:00:00\n",
      "Collecting scikit-learn>=0.24.0\n",
      "  Downloading scikit_learn-1.0.2-cp37-cp37m-win_amd64.whl (7.1 MB)\n",
      "     ---------------------------------------- 7.1/7.1 MB 771.9 kB/s eta 0:00:00\n",
      "Collecting pydantic<2\n",
      "  Downloading pydantic-1.10.12-cp37-cp37m-win_amd64.whl (2.1 MB)\n",
      "     ---------------------------------------- 2.1/2.1 MB 1.4 MB/s eta 0:00:00\n",
      "Collecting statsmodels>=0.12.2\n",
      "  Downloading statsmodels-0.13.5-cp37-cp37m-win_amd64.whl (9.1 MB)\n",
      "     ---------------------------------------- 9.1/9.1 MB 1.3 MB/s eta 0:00:00\n",
      "Collecting nltk>=3.6.7\n",
      "  Downloading nltk-3.8.1-py3-none-any.whl (1.5 MB)\n",
      "     ---------------------------------------- 1.5/1.5 MB 2.0 MB/s eta 0:00:00\n",
      "Collecting pandas>=1.3.5\n",
      "  Using cached pandas-1.3.5-cp37-cp37m-win_amd64.whl (10.0 MB)\n",
      "Collecting requests>=2.19.0\n",
      "  Using cached requests-2.31.0-py3-none-any.whl (62 kB)\n",
      "Collecting PyYAML>=5.1\n",
      "  Downloading PyYAML-6.0.1-cp37-cp37m-win_amd64.whl (153 kB)\n",
      "     -------------------------------------- 153.2/153.2 kB 1.8 MB/s eta 0:00:00\n",
      "Collecting scipy>=1.5.4\n",
      "  Downloading scipy-1.7.3-cp37-cp37m-win_amd64.whl (34.1 MB)\n",
      "     ---------------------------------------- 34.1/34.1 MB 2.5 MB/s eta 0:00:00\n",
      "Collecting regex>=2021.8.3\n",
      "  Downloading regex-2023.8.8-cp37-cp37m-win_amd64.whl (268 kB)\n",
      "     -------------------------------------- 268.7/268.7 kB 2.7 MB/s eta 0:00:00\n",
      "Collecting tqdm\n",
      "  Downloading tqdm-4.66.1-py3-none-any.whl (78 kB)\n",
      "     ---------------------------------------- 78.3/78.3 kB 4.5 MB/s eta 0:00:00\n",
      "Collecting click\n",
      "  Using cached click-8.1.7-py3-none-any.whl (97 kB)\n",
      "Collecting joblib\n",
      "  Downloading joblib-1.3.2-py3-none-any.whl (302 kB)\n",
      "     -------------------------------------- 302.2/302.2 kB 6.2 MB/s eta 0:00:00\n",
      "Requirement already satisfied: python-dateutil>=2.7.3 in .\\venv_csp\\lib\\site-packages (from pandas>=1.3.5->evidently==0.2.8) (2.8.2)\n",
      "Collecting pytz>=2017.3\n",
      "  Using cached pytz-2023.3.post1-py2.py3-none-any.whl (502 kB)\n",
      "Collecting tenacity>=6.2.0\n",
      "  Downloading tenacity-8.2.3-py3-none-any.whl (24 kB)\n",
      "Requirement already satisfied: packaging in .\\venv_csp\\lib\\site-packages (from plotly>=5.5.0->evidently==0.2.8) (22.0)\n",
      "Collecting typing-extensions>=4.2.0\n",
      "  Using cached typing_extensions-4.7.1-py3-none-any.whl (33 kB)\n",
      "Collecting idna<4,>=2.5\n",
      "  Using cached idna-3.4-py3-none-any.whl (61 kB)\n",
      "Collecting urllib3<3,>=1.21.1\n",
      "  Using cached urllib3-2.0.4-py3-none-any.whl (123 kB)\n",
      "Requirement already satisfied: certifi>=2017.4.17 in .\\venv_csp\\lib\\site-packages (from requests>=2.19.0->evidently==0.2.8) (2022.12.7)\n",
      "Collecting charset-normalizer<4,>=2\n",
      "  Using cached charset_normalizer-3.2.0-cp37-cp37m-win_amd64.whl (94 kB)\n",
      "Collecting threadpoolctl>=2.0.0\n",
      "  Using cached threadpoolctl-3.1.0-py3-none-any.whl (14 kB)\n",
      "Collecting patsy>=0.5.2\n",
      "  Using cached patsy-0.5.3-py2.py3-none-any.whl (233 kB)\n",
      "Requirement already satisfied: six in .\\venv_csp\\lib\\site-packages (from patsy>=0.5.2->statsmodels>=0.12.2->evidently==0.2.8) (1.16.0)\n",
      "Requirement already satisfied: colorama in .\\venv_csp\\lib\\site-packages (from click->nltk>=3.6.7->evidently==0.2.8) (0.4.6)\n",
      "Collecting importlib-metadata\n",
      "  Using cached importlib_metadata-6.7.0-py3-none-any.whl (22 kB)\n",
      "Collecting zipp>=0.5\n",
      "  Using cached zipp-3.15.0-py3-none-any.whl (6.8 kB)\n",
      "Installing collected packages: pytz, zipp, urllib3, typing-extensions, tqdm, threadpoolctl, tenacity, regex, PyYAML, numpy, joblib, idna, charset-normalizer, scipy, requests, pydantic, plotly, patsy, pandas, importlib-metadata, statsmodels, scikit-learn, click, nltk, evidently\n",
      "Successfully installed PyYAML-6.0.1 charset-normalizer-3.2.0 click-8.1.7 evidently-0.2.8 idna-3.4 importlib-metadata-6.7.0 joblib-1.3.2 nltk-3.8.1 numpy-1.21.6 pandas-1.3.5 patsy-0.5.3 plotly-5.17.0 pydantic-1.10.12 pytz-2023.3.post1 regex-2023.8.8 requests-2.31.0 scikit-learn-1.0.2 scipy-1.7.3 statsmodels-0.13.5 tenacity-8.2.3 threadpoolctl-3.1.0 tqdm-4.66.1 typing-extensions-4.7.1 urllib3-2.0.4 zipp-3.15.0\n"
     ]
    }
   ],
   "source": [
    "from evidently.dashboard import Dashboard\n",
    "from evidently.dashboard.tabs import DataDriftTab"
   ]
  },
  {
   "cell_type": "code",
   "execution_count": 5,
   "metadata": {},
   "outputs": [
    {
     "name": "stdout",
     "output_type": "stream",
     "text": [
      "^C\n"
     ]
    }
   ],
   "source": [
    "!pip install evidently==0.2.8"
   ]
  },
  {
   "cell_type": "code",
   "execution_count": 1,
   "metadata": {},
   "outputs": [],
   "source": [
    "import pandas as pd\n",
    "import numpy as np\n",
    "from cement_strength.util.util import read_yaml"
   ]
  },
  {
   "cell_type": "code",
   "execution_count": 2,
   "metadata": {},
   "outputs": [
    {
     "data": {
      "text/plain": [
       "'d:\\\\projects\\\\cement_strength_prediction'"
      ]
     },
     "execution_count": 2,
     "metadata": {},
     "output_type": "execute_result"
    }
   ],
   "source": [
    "import os\n",
    "os.getcwd()"
   ]
  },
  {
   "cell_type": "code",
   "execution_count": 6,
   "metadata": {},
   "outputs": [],
   "source": [
    "path = \"config/schema.yaml\"\n",
    "import yaml\n",
    "def read_yaml(file_path:str):\n",
    "    with open(file_path,\"rb\") as yaml_file:\n",
    "        return yaml.safe_load(yaml_file)\n",
    "            \n",
    "\n"
   ]
  },
  {
   "cell_type": "code",
   "execution_count": 8,
   "metadata": {},
   "outputs": [],
   "source": [
    "ans = read_yaml(path)"
   ]
  },
  {
   "cell_type": "code",
   "execution_count": 11,
   "metadata": {},
   "outputs": [
    {
     "data": {
      "text/plain": [
       "dict"
      ]
     },
     "execution_count": 11,
     "metadata": {},
     "output_type": "execute_result"
    }
   ],
   "source": [
    "type(ans)"
   ]
  },
  {
   "cell_type": "code",
   "execution_count": 12,
   "metadata": {},
   "outputs": [
    {
     "data": {
      "text/plain": [
       "{'columns': {'Cement (component 1)(kg in a m^3 mixture)': 'float64',\n",
       "  'Blast Furnace Slag (component 2)(kg in a m^3 mixture)': 'float64',\n",
       "  'Fly Ash (component 3)(kg in a m^3 mixture)': 'float64',\n",
       "  'Water  (component 4)(kg in a m^3 mixture)': 'float64',\n",
       "  'Superplasticizer (component 5)(kg in a m^3 mixture)': 'float64',\n",
       "  'Coarse Aggregate  (component 6)(kg in a m^3 mixture)': 'float64',\n",
       "  'Fine Aggregate (component 7)(kg in a m^3 mixture)': 'float64',\n",
       "  'Age (day)': 'int64',\n",
       "  'Concrete compressive strength(MPa, megapascals)': 'float64'},\n",
       " 'numerical_columns': ['Cement (component 1)(kg in a m^3 mixture)',\n",
       "  'Blast Furnace Slag (component 2)(kg in a m^3 mixture)',\n",
       "  'Fly Ash (component 3)(kg in a m^3 mixture)',\n",
       "  'Water  (component 4)(kg in a m^3 mixture)',\n",
       "  'Superplasticizer (component 5)(kg in a m^3 mixture)',\n",
       "  'Coarse Aggregate  (component 6)(kg in a m^3 mixture)',\n",
       "  'Fine Aggregate (component 7)(kg in a m^3 mixture)',\n",
       "  'Age (day)',\n",
       "  'Concrete compressive strength(MPa, megapascals)'],\n",
       " 'target_column': 'Concrete compressive strength(MPa, megapascals)'}"
      ]
     },
     "execution_count": 12,
     "metadata": {},
     "output_type": "execute_result"
    }
   ],
   "source": [
    "ans"
   ]
  },
  {
   "cell_type": "code",
   "execution_count": 14,
   "metadata": {},
   "outputs": [
    {
     "data": {
      "text/plain": [
       "9"
      ]
     },
     "execution_count": 14,
     "metadata": {},
     "output_type": "execute_result"
    }
   ],
   "source": [
    "len(ans['columns'])"
   ]
  },
  {
   "cell_type": "code",
   "execution_count": 15,
   "metadata": {},
   "outputs": [
    {
     "data": {
      "text/plain": [
       "['Cement (component 1)(kg in a m^3 mixture)',\n",
       " 'Blast Furnace Slag (component 2)(kg in a m^3 mixture)',\n",
       " 'Fly Ash (component 3)(kg in a m^3 mixture)',\n",
       " 'Water  (component 4)(kg in a m^3 mixture)',\n",
       " 'Superplasticizer (component 5)(kg in a m^3 mixture)',\n",
       " 'Coarse Aggregate  (component 6)(kg in a m^3 mixture)',\n",
       " 'Fine Aggregate (component 7)(kg in a m^3 mixture)',\n",
       " 'Age (day)',\n",
       " 'Concrete compressive strength(MPa, megapascals)']"
      ]
     },
     "execution_count": 15,
     "metadata": {},
     "output_type": "execute_result"
    }
   ],
   "source": [
    "ans['numerical_columns']"
   ]
  },
  {
   "cell_type": "code",
   "execution_count": 20,
   "metadata": {},
   "outputs": [
    {
     "name": "stdout",
     "output_type": "stream",
     "text": [
      "Cement (component 1)(kg in a m^3 mixture)\n",
      "Blast Furnace Slag (component 2)(kg in a m^3 mixture)\n",
      "Fly Ash (component 3)(kg in a m^3 mixture)\n",
      "Water  (component 4)(kg in a m^3 mixture)\n",
      "Superplasticizer (component 5)(kg in a m^3 mixture)\n",
      "Coarse Aggregate  (component 6)(kg in a m^3 mixture)\n",
      "Fine Aggregate (component 7)(kg in a m^3 mixture)\n",
      "Age (day)\n",
      "Concrete compressive strength(MPa, megapascals)\n"
     ]
    }
   ],
   "source": [
    "for i in ans['columns'].keys():\n",
    "    print(i)"
   ]
  },
  {
   "cell_type": "code",
   "execution_count": null,
   "metadata": {},
   "outputs": [],
   "source": []
  }
 ],
 "metadata": {
  "kernelspec": {
   "display_name": "Python 3",
   "language": "python",
   "name": "python3"
  },
  "language_info": {
   "codemirror_mode": {
    "name": "ipython",
    "version": 3
   },
   "file_extension": ".py",
   "mimetype": "text/x-python",
   "name": "python",
   "nbconvert_exporter": "python",
   "pygments_lexer": "ipython3",
   "version": "3.7.16"
  },
  "orig_nbformat": 4
 },
 "nbformat": 4,
 "nbformat_minor": 2
}
